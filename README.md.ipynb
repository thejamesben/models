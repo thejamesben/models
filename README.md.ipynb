{
 "cells": [
  {
   "cell_type": "markdown",
   "id": "df898ca4",
   "metadata": {},
   "source": [
    "# Predictive Inventory Optimization for Seasonal Products in Online Retail\n",
    "\n",
    "## Abstract\n",
    "This project aims to optimize inventory management for seasonal products in online retail using various predictive models including ARIMA, SARIMA, XGBoost, and LSTM. The analysis was conducted on the UCI Online Retail Dataset, and key performance metrics such as MAE, RMSE, MASE, and WMAPE were used to evaluate the models.\n",
    "\n",
    "## Table of Contents\n",
    "1. [Introduction](#Introduction)\n",
    "2. [Data Description](#Data-Description)\n",
    "3. [Models Used](#Models-Used)\n",
    "4. [Results](#Results)\n",
    "5. [Installation](#Installation)\n",
    "5. [Usage](#Usage)\n",
    "6. [Acknowledgements](#Acknowledgements)\n",
    "7. [References](#References)\n",
    "\n",
    "## Introduction\n",
    "This project investigates predictive inventory optimization for seasonal products in online retail. The primary objective is to develop and compare different forecasting models to improve inventory management.\n",
    "\n",
    "## Data Description\n",
    "The analysis uses the UCI Online Retail Dataset, which includes transactions from a UK-based online retailer. Key features include:\n",
    "- **InvoiceNo**: Invoice number\n",
    "- **StockCode**: Product code\n",
    "- **Description**: Product description\n",
    "- **Quantity**: Quantity of products\n",
    "- **InvoiceDate**: Date of the invoice\n",
    "- **Price**: Price per unit\n",
    "- **CustomerID**: Customer ID\n",
    "- **Country**: Country of the customer\n",
    "\n",
    "**Dataset Access:**\n",
    "The dataset can be accessed from the UCI Machine Learning Repository available on Kaggle using the link: [UCI Online Retail Dataset](https://archive.ics.uci.edu/ml/datasets/online+retail).\n",
    "\n",
    "**Data Preparation:**\n",
    "Download the dataset, place it in the root directory of the cloned repo, and rename it to `ucs_data.csv` before proceeding with the analysis.\n",
    "\n",
    "## Models Used\n",
    "1. **ARIMA**: Autoregressive Integrated Moving Average\n",
    "2. **SARIMA**: Seasonal ARIMA\n",
    "3. **XGBoost**: Extreme Gradient Boosting\n",
    "4. **LSTM**: Long Short-Term Memory networks\n",
    "\n",
    "## Results\n",
    "The models were evaluated using the following performance metrics:\n",
    "- **MAE**: Mean Absolute Error\n",
    "- **RMSE**: Root Mean Squared Error\n",
    "- **MASE**: Mean Absolute Scaled Error\n",
    "- **WMAPE**: Weighted Mean Absolute Percentage Error\n",
    "\n",
    "## Installation\n",
    "To set up the environment, follow these steps:\n",
    "\n",
    "1. **Clone the repository:**\n",
    "\n",
    "git clone https://github.com/thejamesben/models.git\n",
    "cd repository"
   ]
  },
  {
   "cell_type": "markdown",
   "id": "a2d804a7",
   "metadata": {},
   "source": [
    "## Usage\n",
    "### Start Jupyter Notebook:\n",
    "\n",
    "jupyter notebook"
   ]
  },
  {
   "cell_type": "markdown",
   "id": "30d10265",
   "metadata": {},
   "source": [
    "### Run the notebooks in the following order:\n",
    "- Pre-processing and Feature Engineering Script: `data_preprocessing.ipynb`\n",
    "\n",
    "- Historical Data Analysis Script: `historical_data_analysis.ipynb`\n",
    "- Training Models Script:\n",
    "`arima_model.ipynb`, \n",
    "`sarima_model.ipynb`, \n",
    "`xgboost_model.ipynb`, \n",
    "`lstm_model.ipynb`\n",
    "- Findings Script: `findings.ipynb`\n",
    "- Statistical Analysis Script: `statistical_analysis.ipynb`"
   ]
  },
  {
   "cell_type": "markdown",
   "id": "6ee6f813",
   "metadata": {},
   "source": [
    "## Acknowledgements\n",
    "I would like to thank my supervisor, Prof. Olumide Babatope Longe, for his guidance and support throughout this project."
   ]
  },
  {
   "cell_type": "markdown",
   "id": "a357f532",
   "metadata": {},
   "source": [
    "\n",
    "## References\n",
    "- Chen, D., et al. (2012). Online Retail II dataset. UCI Machine Learning Repository. Retrieved from [https://www.kaggle.com/datasets/mashlyn/online-retail-ii-uci/data](https://www.kaggle.com/datasets/mashlyn/online-retail-ii-uci/data)\n"
   ]
  }
 ],
 "metadata": {
  "kernelspec": {
   "display_name": "Python 3 (ipykernel)",
   "language": "python",
   "name": "python3"
  },
  "language_info": {
   "codemirror_mode": {
    "name": "ipython",
    "version": 3
   },
   "file_extension": ".py",
   "mimetype": "text/x-python",
   "name": "python",
   "nbconvert_exporter": "python",
   "pygments_lexer": "ipython3",
   "version": "3.10.9"
  }
 },
 "nbformat": 4,
 "nbformat_minor": 5
}
